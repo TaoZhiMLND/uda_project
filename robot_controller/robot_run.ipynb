{
 "cells": [
  {
   "cell_type": "code",
   "execution_count": 1,
   "metadata": {},
   "outputs": [
    {
     "name": "stdout",
     "output_type": "stream",
     "text": [
      "maze-id 1-1532242420\n",
      "[[2, 2, 3, 0, 2, 0],\n",
      " [1, 2, 2, 0, 2, 0],\n",
      " [0, 0, 2, 0, 2, 0],\n",
      " [2, 0, 2, 0, 0, 0],\n",
      " [2, 0, 0, 0, 2, 0]]\n"
     ]
    }
   ],
   "source": [
    "import helper\n",
    "env_data = helper.fetch_maze()"
   ]
  },
  {
   "cell_type": "code",
   "execution_count": 15,
   "metadata": {
    "scrolled": true
   },
   "outputs": [
    {
     "name": "stdout",
     "output_type": "stream",
     "text": [
      "迷宫共有 5 行 6 列，第三行第六列的元素是 0\n"
     ]
    }
   ],
   "source": [
    "#DONE 1模拟环境的行数\n",
    "rows = len(env_data) \n",
    "\n",
    "#DONE 2模拟环境的列数\n",
    "\n",
    "#对环境转置\n",
    "tp_env_data = tuple(zip(*env_data))\n",
    "\n",
    "columns = len(tp_env_data) \n",
    "\n",
    "#DONE 3取出模拟环境第三行第六列的元素\n",
    "row_3_col_6 = env_data[2][5]\n",
    "\n",
    "print(\"迷宫共有\", rows, \"行\", columns, \"列，第三行第六列的元素是\", row_3_col_6)"
   ]
  },
  {
   "cell_type": "code",
   "execution_count": 17,
   "metadata": {},
   "outputs": [
    {
     "name": "stdout",
     "output_type": "stream",
     "text": [
      "迷宫中，第一行共有 3 个障碍物，第三列共有 3 个障碍物。\n"
     ]
    }
   ],
   "source": [
    "#TODO 4计算模拟环境中，第一行的的障碍物个数。\n",
    "number_of_barriers_row1 = len(list(filter(lambda x : x == 2, env_data[0])))\n",
    "\n",
    "#TODO 5计算模拟环境中，第三列的的障碍物个数。\n",
    "number_of_barriers_col3 = len(list(filter(lambda x : x == 2, tp_env_data[2])))\n",
    "\n",
    "print(\"迷宫中，第一行共有\", number_of_barriers_row1, \"个障碍物，第三列共有\", number_of_barriers_col3, \"个障碍物。\")"
   ]
  },
  {
   "cell_type": "code",
   "execution_count": 26,
   "metadata": {},
   "outputs": [],
   "source": [
    "loc_map = {} #DONE 6按照上述要求创建字典\n",
    "for i in range(0, rows):\n",
    "    for j in range(0, columns):\n",
    "        if env_data[i][j] == 1:\n",
    "            loc_map['start'] = (i,j)\n",
    "        elif env_data[i][j] == 3:\n",
    "            loc_map['destination'] = (i,j)\n",
    "robot_current_loc = loc_map['start']  #DONE 7保存机器人当前的位置"
   ]
  }
 ],
 "metadata": {
  "kernelspec": {
   "display_name": "Python 3",
   "language": "python",
   "name": "python3"
  },
  "language_info": {
   "codemirror_mode": {
    "name": "ipython",
    "version": 3
   },
   "file_extension": ".py",
   "mimetype": "text/x-python",
   "name": "python",
   "nbconvert_exporter": "python",
   "pygments_lexer": "ipython3",
   "version": "3.6.6"
  }
 },
 "nbformat": 4,
 "nbformat_minor": 2
}
